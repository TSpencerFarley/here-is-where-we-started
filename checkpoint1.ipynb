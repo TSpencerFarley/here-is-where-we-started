{
  "nbformat": 4,
  "nbformat_minor": 0,
  "metadata": {
    "colab": {
      "name": "checkpoint1.ipynb",
      "provenance": [],
      "collapsed_sections": []
    },
    "kernelspec": {
      "name": "python3",
      "display_name": "Python 3"
    },
    "language_info": {
      "name": "python"
    }
  },
  "cells": [
    {
      "cell_type": "code",
      "execution_count": null,
      "metadata": {
        "colab": {
          "base_uri": "https://localhost:8080/"
        },
        "id": "UQcxGKwC9myz",
        "outputId": "921d0e50-1efb-4c5b-e4b6-85e974ed1616"
      },
      "outputs": [
        {
          "output_type": "stream",
          "name": "stdout",
          "text": [
            "My name is Spencer. I am 29. The area of a circle is 6.605198554172976.\n"
          ]
        }
      ],
      "source": [
        "name = \"Spencer\"\n",
        "age = 29\n",
        "diameter = 2.9\n",
        "pi = 3.14159265359\n",
        "area = pi * (diameter / 2) ** 2\n",
        "print(\"My name is \" + name + \". I am \" + str(age)\n",
        "+ \". The area of a circle is \" + str(area) + \".\")"
      ]
    },
    {
      "cell_type": "code",
      "source": [
        "a = 4 ** 2\n",
        "print(a)"
      ],
      "metadata": {
        "colab": {
          "base_uri": "https://localhost:8080/"
        },
        "id": "TlON_--GQiED",
        "outputId": "d5961497-1dd6-4440-881a-b8b0918c3623"
      },
      "execution_count": null,
      "outputs": [
        {
          "output_type": "stream",
          "name": "stdout",
          "text": [
            "16\n"
          ]
        }
      ]
    },
    {
      "cell_type": "code",
      "source": [
        "for x in range(4):\n",
        "  print(x)"
      ],
      "metadata": {
        "id": "GNh-2kn_Qr7y",
        "outputId": "becbdb02-8211-4051-8d90-9673a3bc7c5a",
        "colab": {
          "base_uri": "https://localhost:8080/"
        }
      },
      "execution_count": null,
      "outputs": [
        {
          "output_type": "stream",
          "name": "stdout",
          "text": [
            "0\n",
            "1\n",
            "2\n",
            "3\n"
          ]
        }
      ]
    }
  ]
}