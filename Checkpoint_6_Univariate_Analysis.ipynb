{
  "nbformat": 4,
  "nbformat_minor": 0,
  "metadata": {
    "colab": {
      "name": "Checkpoint 6 - Univariate Analysis.ipynb",
      "provenance": [],
      "collapsed_sections": []
    },
    "kernelspec": {
      "name": "python3",
      "display_name": "Python 3"
    },
    "language_info": {
      "name": "python"
    }
  },
  "cells": [
    {
      "cell_type": "markdown",
      "source": [
        "# **Checkpoint 6**"
      ],
      "metadata": {
        "id": "1SatMjaduOBm"
      }
    },
    {
      "cell_type": "markdown",
      "source": [
        "Write out the answer in the text block. Display how you arrive to the answer in a code block below the text block. "
      ],
      "metadata": {
        "id": "AALfyubLuWTR"
      }
    },
    {
      "cell_type": "code",
      "source": [
        "import pandas as pd\n",
        "df = pd.read_csv('https://www.dropbox.com/s/2ervif08bxu4id3/WorldBankData.csv?dl=1')\n",
        "df"
      ],
      "metadata": {
        "colab": {
          "base_uri": "https://localhost:8080/",
          "height": 423
        },
        "id": "6LqCuegXk2QF",
        "outputId": "e7cc172d-067e-4b73-8ae6-c2ed28dc4981"
      },
      "execution_count": null,
      "outputs": [
        {
          "output_type": "execute_result",
          "data": {
            "text/html": [
              "\n",
              "  <div id=\"df-df9b060b-371f-4968-91dc-fcb6bfd6db36\">\n",
              "    <div class=\"colab-df-container\">\n",
              "      <div>\n",
              "<style scoped>\n",
              "    .dataframe tbody tr th:only-of-type {\n",
              "        vertical-align: middle;\n",
              "    }\n",
              "\n",
              "    .dataframe tbody tr th {\n",
              "        vertical-align: top;\n",
              "    }\n",
              "\n",
              "    .dataframe thead th {\n",
              "        text-align: right;\n",
              "    }\n",
              "</style>\n",
              "<table border=\"1\" class=\"dataframe\">\n",
              "  <thead>\n",
              "    <tr style=\"text-align: right;\">\n",
              "      <th></th>\n",
              "      <th>Country Name</th>\n",
              "      <th>Country Code</th>\n",
              "      <th>Indicator Name</th>\n",
              "      <th>Year</th>\n",
              "      <th>Value</th>\n",
              "    </tr>\n",
              "  </thead>\n",
              "  <tbody>\n",
              "    <tr>\n",
              "      <th>0</th>\n",
              "      <td>World</td>\n",
              "      <td>WLD</td>\n",
              "      <td>Access to electricity (% of population)</td>\n",
              "      <td>2000</td>\n",
              "      <td>78.736065</td>\n",
              "    </tr>\n",
              "    <tr>\n",
              "      <th>1</th>\n",
              "      <td>Afghanistan</td>\n",
              "      <td>AFG</td>\n",
              "      <td>Access to electricity (% of population)</td>\n",
              "      <td>2000</td>\n",
              "      <td>NaN</td>\n",
              "    </tr>\n",
              "    <tr>\n",
              "      <th>2</th>\n",
              "      <td>Albania</td>\n",
              "      <td>ALB</td>\n",
              "      <td>Access to electricity (% of population)</td>\n",
              "      <td>2000</td>\n",
              "      <td>100.000000</td>\n",
              "    </tr>\n",
              "    <tr>\n",
              "      <th>3</th>\n",
              "      <td>Algeria</td>\n",
              "      <td>DZA</td>\n",
              "      <td>Access to electricity (% of population)</td>\n",
              "      <td>2000</td>\n",
              "      <td>NaN</td>\n",
              "    </tr>\n",
              "    <tr>\n",
              "      <th>4</th>\n",
              "      <td>American Samoa</td>\n",
              "      <td>ASM</td>\n",
              "      <td>Access to electricity (% of population)</td>\n",
              "      <td>2000</td>\n",
              "      <td>NaN</td>\n",
              "    </tr>\n",
              "    <tr>\n",
              "      <th>...</th>\n",
              "      <td>...</td>\n",
              "      <td>...</td>\n",
              "      <td>...</td>\n",
              "      <td>...</td>\n",
              "      <td>...</td>\n",
              "    </tr>\n",
              "    <tr>\n",
              "      <th>309555</th>\n",
              "      <td>Virgin Islands (U.S.)</td>\n",
              "      <td>VIR</td>\n",
              "      <td>Women who were first married by age 18 (% of w...</td>\n",
              "      <td>2019</td>\n",
              "      <td>NaN</td>\n",
              "    </tr>\n",
              "    <tr>\n",
              "      <th>309556</th>\n",
              "      <td>West Bank and Gaza</td>\n",
              "      <td>PSE</td>\n",
              "      <td>Women who were first married by age 18 (% of w...</td>\n",
              "      <td>2019</td>\n",
              "      <td>NaN</td>\n",
              "    </tr>\n",
              "    <tr>\n",
              "      <th>309557</th>\n",
              "      <td>Yemen, Rep.</td>\n",
              "      <td>YEM</td>\n",
              "      <td>Women who were first married by age 18 (% of w...</td>\n",
              "      <td>2019</td>\n",
              "      <td>NaN</td>\n",
              "    </tr>\n",
              "    <tr>\n",
              "      <th>309558</th>\n",
              "      <td>Zambia</td>\n",
              "      <td>ZMB</td>\n",
              "      <td>Women who were first married by age 18 (% of w...</td>\n",
              "      <td>2019</td>\n",
              "      <td>NaN</td>\n",
              "    </tr>\n",
              "    <tr>\n",
              "      <th>309559</th>\n",
              "      <td>Zimbabwe</td>\n",
              "      <td>ZWE</td>\n",
              "      <td>Women who were first married by age 18 (% of w...</td>\n",
              "      <td>2019</td>\n",
              "      <td>33.700000</td>\n",
              "    </tr>\n",
              "  </tbody>\n",
              "</table>\n",
              "<p>309560 rows × 5 columns</p>\n",
              "</div>\n",
              "      <button class=\"colab-df-convert\" onclick=\"convertToInteractive('df-df9b060b-371f-4968-91dc-fcb6bfd6db36')\"\n",
              "              title=\"Convert this dataframe to an interactive table.\"\n",
              "              style=\"display:none;\">\n",
              "        \n",
              "  <svg xmlns=\"http://www.w3.org/2000/svg\" height=\"24px\"viewBox=\"0 0 24 24\"\n",
              "       width=\"24px\">\n",
              "    <path d=\"M0 0h24v24H0V0z\" fill=\"none\"/>\n",
              "    <path d=\"M18.56 5.44l.94 2.06.94-2.06 2.06-.94-2.06-.94-.94-2.06-.94 2.06-2.06.94zm-11 1L8.5 8.5l.94-2.06 2.06-.94-2.06-.94L8.5 2.5l-.94 2.06-2.06.94zm10 10l.94 2.06.94-2.06 2.06-.94-2.06-.94-.94-2.06-.94 2.06-2.06.94z\"/><path d=\"M17.41 7.96l-1.37-1.37c-.4-.4-.92-.59-1.43-.59-.52 0-1.04.2-1.43.59L10.3 9.45l-7.72 7.72c-.78.78-.78 2.05 0 2.83L4 21.41c.39.39.9.59 1.41.59.51 0 1.02-.2 1.41-.59l7.78-7.78 2.81-2.81c.8-.78.8-2.07 0-2.86zM5.41 20L4 18.59l7.72-7.72 1.47 1.35L5.41 20z\"/>\n",
              "  </svg>\n",
              "      </button>\n",
              "      \n",
              "  <style>\n",
              "    .colab-df-container {\n",
              "      display:flex;\n",
              "      flex-wrap:wrap;\n",
              "      gap: 12px;\n",
              "    }\n",
              "\n",
              "    .colab-df-convert {\n",
              "      background-color: #E8F0FE;\n",
              "      border: none;\n",
              "      border-radius: 50%;\n",
              "      cursor: pointer;\n",
              "      display: none;\n",
              "      fill: #1967D2;\n",
              "      height: 32px;\n",
              "      padding: 0 0 0 0;\n",
              "      width: 32px;\n",
              "    }\n",
              "\n",
              "    .colab-df-convert:hover {\n",
              "      background-color: #E2EBFA;\n",
              "      box-shadow: 0px 1px 2px rgba(60, 64, 67, 0.3), 0px 1px 3px 1px rgba(60, 64, 67, 0.15);\n",
              "      fill: #174EA6;\n",
              "    }\n",
              "\n",
              "    [theme=dark] .colab-df-convert {\n",
              "      background-color: #3B4455;\n",
              "      fill: #D2E3FC;\n",
              "    }\n",
              "\n",
              "    [theme=dark] .colab-df-convert:hover {\n",
              "      background-color: #434B5C;\n",
              "      box-shadow: 0px 1px 3px 1px rgba(0, 0, 0, 0.15);\n",
              "      filter: drop-shadow(0px 1px 2px rgba(0, 0, 0, 0.3));\n",
              "      fill: #FFFFFF;\n",
              "    }\n",
              "  </style>\n",
              "\n",
              "      <script>\n",
              "        const buttonEl =\n",
              "          document.querySelector('#df-df9b060b-371f-4968-91dc-fcb6bfd6db36 button.colab-df-convert');\n",
              "        buttonEl.style.display =\n",
              "          google.colab.kernel.accessAllowed ? 'block' : 'none';\n",
              "\n",
              "        async function convertToInteractive(key) {\n",
              "          const element = document.querySelector('#df-df9b060b-371f-4968-91dc-fcb6bfd6db36');\n",
              "          const dataTable =\n",
              "            await google.colab.kernel.invokeFunction('convertToInteractive',\n",
              "                                                     [key], {});\n",
              "          if (!dataTable) return;\n",
              "\n",
              "          const docLinkHtml = 'Like what you see? Visit the ' +\n",
              "            '<a target=\"_blank\" href=https://colab.research.google.com/notebooks/data_table.ipynb>data table notebook</a>'\n",
              "            + ' to learn more about interactive tables.';\n",
              "          element.innerHTML = '';\n",
              "          dataTable['output_type'] = 'display_data';\n",
              "          await google.colab.output.renderOutput(dataTable, element);\n",
              "          const docLink = document.createElement('div');\n",
              "          docLink.innerHTML = docLinkHtml;\n",
              "          element.appendChild(docLink);\n",
              "        }\n",
              "      </script>\n",
              "    </div>\n",
              "  </div>\n",
              "  "
            ],
            "text/plain": [
              "                 Country Name Country Code  ...  Year       Value\n",
              "0                       World          WLD  ...  2000   78.736065\n",
              "1                 Afghanistan          AFG  ...  2000         NaN\n",
              "2                     Albania          ALB  ...  2000  100.000000\n",
              "3                     Algeria          DZA  ...  2000         NaN\n",
              "4              American Samoa          ASM  ...  2000         NaN\n",
              "...                       ...          ...  ...   ...         ...\n",
              "309555  Virgin Islands (U.S.)          VIR  ...  2019         NaN\n",
              "309556     West Bank and Gaza          PSE  ...  2019         NaN\n",
              "309557            Yemen, Rep.          YEM  ...  2019         NaN\n",
              "309558                 Zambia          ZMB  ...  2019         NaN\n",
              "309559               Zimbabwe          ZWE  ...  2019   33.700000\n",
              "\n",
              "[309560 rows x 5 columns]"
            ]
          },
          "metadata": {},
          "execution_count": 2
        }
      ]
    },
    {
      "cell_type": "markdown",
      "metadata": {
        "id": "MOgqpDx_Rl5t"
      },
      "source": [
        "**Question 1.** How many records (or rows) are in the file?\n",
        "\n",
        "Answer: 309,560 "
      ]
    },
    {
      "cell_type": "code",
      "source": [
        "df.count()"
      ],
      "metadata": {
        "id": "gsaRdADjImas",
        "colab": {
          "base_uri": "https://localhost:8080/"
        },
        "outputId": "01e67db9-5c4e-4924-e61b-65867ebf3f20"
      },
      "execution_count": null,
      "outputs": [
        {
          "output_type": "execute_result",
          "data": {
            "text/plain": [
              "Country Name      309560\n",
              "Country Code      309560\n",
              "Indicator Name    309560\n",
              "Year              309560\n",
              "Value             209694\n",
              "dtype: int64"
            ]
          },
          "metadata": {},
          "execution_count": 3
        }
      ]
    },
    {
      "cell_type": "markdown",
      "metadata": {
        "id": "QwXPE1FLScqf"
      },
      "source": [
        "**Question 2.** What is (are) the name(s) of the column(s) in the file that have missing values?\n",
        "\n",
        "Answer: \"Value\" is the only column to contain null values\n",
        "\n"
      ]
    },
    {
      "cell_type": "code",
      "metadata": {
        "id": "9VYtElX15mIy",
        "colab": {
          "base_uri": "https://localhost:8080/"
        },
        "outputId": "de4917e2-d4ff-4bf5-bd77-89d45ef5ae58"
      },
      "source": [
        "df.count()"
      ],
      "execution_count": null,
      "outputs": [
        {
          "output_type": "execute_result",
          "data": {
            "text/plain": [
              "Country Name      309560\n",
              "Country Code      309560\n",
              "Indicator Name    309560\n",
              "Year              309560\n",
              "Value             209694\n",
              "dtype: int64"
            ]
          },
          "metadata": {},
          "execution_count": 4
        }
      ]
    },
    {
      "cell_type": "markdown",
      "metadata": {
        "id": "VRfTyvyzS-uU"
      },
      "source": [
        "**Question 3.** How many unique country names are in the file?\n",
        "\n",
        "Answer: 218"
      ]
    },
    {
      "cell_type": "code",
      "metadata": {
        "id": "hyQNAR70SzbK",
        "colab": {
          "base_uri": "https://localhost:8080/"
        },
        "outputId": "b5dd1767-156b-4943-90be-870149f1ba53"
      },
      "source": [
        "df['Country Name'].nunique()"
      ],
      "execution_count": null,
      "outputs": [
        {
          "output_type": "execute_result",
          "data": {
            "text/plain": [
              "218"
            ]
          },
          "metadata": {},
          "execution_count": 5
        }
      ]
    },
    {
      "cell_type": "markdown",
      "metadata": {
        "id": "-1joUuRkTIwK"
      },
      "source": [
        "**Question 4.** What was Belgium's urban population percent in 2005? \n",
        "\n",
        "**Hint #1:** It may be helpful to first explore the unique values in the Indicator Name column.\n",
        "\n",
        "Hint #2: It may be helpful to review and use the dataframe filtering concepts we covered on the DataFrames Day 2 day.\n",
        "\n",
        "Answer: 97.403%"
      ]
    },
    {
      "cell_type": "code",
      "metadata": {
        "id": "9BQKFbwzUqhP",
        "colab": {
          "base_uri": "https://localhost:8080/",
          "height": 81
        },
        "outputId": "9bac9e6d-d4fd-4edd-f794-d8bd2a661849"
      },
      "source": [
        "filtered_df = df[(df['Indicator Name'] == 'Urban population (% of total population)') & (df['Year'] == 2005) & (df['Country Name'] == 'Belgium')]\n",
        "filtered_df\n",
        "#'Urban population (% of total population)'"
      ],
      "execution_count": null,
      "outputs": [
        {
          "output_type": "execute_result",
          "data": {
            "text/html": [
              "\n",
              "  <div id=\"df-0258fe0c-19b5-454d-a879-d70d91dfd725\">\n",
              "    <div class=\"colab-df-container\">\n",
              "      <div>\n",
              "<style scoped>\n",
              "    .dataframe tbody tr th:only-of-type {\n",
              "        vertical-align: middle;\n",
              "    }\n",
              "\n",
              "    .dataframe tbody tr th {\n",
              "        vertical-align: top;\n",
              "    }\n",
              "\n",
              "    .dataframe thead th {\n",
              "        text-align: right;\n",
              "    }\n",
              "</style>\n",
              "<table border=\"1\" class=\"dataframe\">\n",
              "  <thead>\n",
              "    <tr style=\"text-align: right;\">\n",
              "      <th></th>\n",
              "      <th>Country Name</th>\n",
              "      <th>Country Code</th>\n",
              "      <th>Indicator Name</th>\n",
              "      <th>Year</th>\n",
              "      <th>Value</th>\n",
              "    </tr>\n",
              "  </thead>\n",
              "  <tbody>\n",
              "    <tr>\n",
              "      <th>92015</th>\n",
              "      <td>Belgium</td>\n",
              "      <td>BEL</td>\n",
              "      <td>Urban population (% of total population)</td>\n",
              "      <td>2005</td>\n",
              "      <td>97.403</td>\n",
              "    </tr>\n",
              "  </tbody>\n",
              "</table>\n",
              "</div>\n",
              "      <button class=\"colab-df-convert\" onclick=\"convertToInteractive('df-0258fe0c-19b5-454d-a879-d70d91dfd725')\"\n",
              "              title=\"Convert this dataframe to an interactive table.\"\n",
              "              style=\"display:none;\">\n",
              "        \n",
              "  <svg xmlns=\"http://www.w3.org/2000/svg\" height=\"24px\"viewBox=\"0 0 24 24\"\n",
              "       width=\"24px\">\n",
              "    <path d=\"M0 0h24v24H0V0z\" fill=\"none\"/>\n",
              "    <path d=\"M18.56 5.44l.94 2.06.94-2.06 2.06-.94-2.06-.94-.94-2.06-.94 2.06-2.06.94zm-11 1L8.5 8.5l.94-2.06 2.06-.94-2.06-.94L8.5 2.5l-.94 2.06-2.06.94zm10 10l.94 2.06.94-2.06 2.06-.94-2.06-.94-.94-2.06-.94 2.06-2.06.94z\"/><path d=\"M17.41 7.96l-1.37-1.37c-.4-.4-.92-.59-1.43-.59-.52 0-1.04.2-1.43.59L10.3 9.45l-7.72 7.72c-.78.78-.78 2.05 0 2.83L4 21.41c.39.39.9.59 1.41.59.51 0 1.02-.2 1.41-.59l7.78-7.78 2.81-2.81c.8-.78.8-2.07 0-2.86zM5.41 20L4 18.59l7.72-7.72 1.47 1.35L5.41 20z\"/>\n",
              "  </svg>\n",
              "      </button>\n",
              "      \n",
              "  <style>\n",
              "    .colab-df-container {\n",
              "      display:flex;\n",
              "      flex-wrap:wrap;\n",
              "      gap: 12px;\n",
              "    }\n",
              "\n",
              "    .colab-df-convert {\n",
              "      background-color: #E8F0FE;\n",
              "      border: none;\n",
              "      border-radius: 50%;\n",
              "      cursor: pointer;\n",
              "      display: none;\n",
              "      fill: #1967D2;\n",
              "      height: 32px;\n",
              "      padding: 0 0 0 0;\n",
              "      width: 32px;\n",
              "    }\n",
              "\n",
              "    .colab-df-convert:hover {\n",
              "      background-color: #E2EBFA;\n",
              "      box-shadow: 0px 1px 2px rgba(60, 64, 67, 0.3), 0px 1px 3px 1px rgba(60, 64, 67, 0.15);\n",
              "      fill: #174EA6;\n",
              "    }\n",
              "\n",
              "    [theme=dark] .colab-df-convert {\n",
              "      background-color: #3B4455;\n",
              "      fill: #D2E3FC;\n",
              "    }\n",
              "\n",
              "    [theme=dark] .colab-df-convert:hover {\n",
              "      background-color: #434B5C;\n",
              "      box-shadow: 0px 1px 3px 1px rgba(0, 0, 0, 0.15);\n",
              "      filter: drop-shadow(0px 1px 2px rgba(0, 0, 0, 0.3));\n",
              "      fill: #FFFFFF;\n",
              "    }\n",
              "  </style>\n",
              "\n",
              "      <script>\n",
              "        const buttonEl =\n",
              "          document.querySelector('#df-0258fe0c-19b5-454d-a879-d70d91dfd725 button.colab-df-convert');\n",
              "        buttonEl.style.display =\n",
              "          google.colab.kernel.accessAllowed ? 'block' : 'none';\n",
              "\n",
              "        async function convertToInteractive(key) {\n",
              "          const element = document.querySelector('#df-0258fe0c-19b5-454d-a879-d70d91dfd725');\n",
              "          const dataTable =\n",
              "            await google.colab.kernel.invokeFunction('convertToInteractive',\n",
              "                                                     [key], {});\n",
              "          if (!dataTable) return;\n",
              "\n",
              "          const docLinkHtml = 'Like what you see? Visit the ' +\n",
              "            '<a target=\"_blank\" href=https://colab.research.google.com/notebooks/data_table.ipynb>data table notebook</a>'\n",
              "            + ' to learn more about interactive tables.';\n",
              "          element.innerHTML = '';\n",
              "          dataTable['output_type'] = 'display_data';\n",
              "          await google.colab.output.renderOutput(dataTable, element);\n",
              "          const docLink = document.createElement('div');\n",
              "          docLink.innerHTML = docLinkHtml;\n",
              "          element.appendChild(docLink);\n",
              "        }\n",
              "      </script>\n",
              "    </div>\n",
              "  </div>\n",
              "  "
            ],
            "text/plain": [
              "      Country Name Country Code  ...  Year   Value\n",
              "92015      Belgium          BEL  ...  2005  97.403\n",
              "\n",
              "[1 rows x 5 columns]"
            ]
          },
          "metadata": {},
          "execution_count": 6
        }
      ]
    },
    {
      "cell_type": "markdown",
      "source": [
        "**Question 5.** What is the average % of individuals using the internet across all the countries in 2000? In 2019? \n",
        "\n",
        "Display an image that shows both a histogram for the percent of individuals using the internet among all the countries in 2000 in one color and a histogram for the percent of individuals using the internet among all the countries in 2019 on the same image in another color. Also include the average % of individuals using the internet in 2000 and the average for 2019 as text on the image. Include a title in the image.\n",
        "\n",
        "**Hint 1:** It may be helpful to first filter the df dataframe to only include rows that include the Indicator Name \"Individuals using the Internet (% of population)\" from either 2019 or 2000 and save that filtered dataframe to a new dataframe (such as internetYearsDF). Find the averages and create the histagrams off the new dataframe.\n",
        "\n",
        "**Hint 2:** You'll want to use the 'hue' functionality to display both histagrams on the same image and in different colors.\n",
        "\n",
        "Answer: 2000: 8.75%; 2019: 76.74%"
      ],
      "metadata": {
        "id": "LqNPoXdg1TX2"
      }
    },
    {
      "cell_type": "code",
      "source": [
        "import seaborn as sns\n",
        "from matplotlib import pyplot as plt\n",
        "\n",
        "\n",
        "new_df = df[(df['Indicator Name'] == 'Individuals using the Internet (% of population)') & ((df['Year'] == 2000) | (df['Year'] == 2019))]\n",
        "new_df = new_df.query('Value == Value')\n",
        "\n",
        "average_2000 = str(round(new_df[new_df['Year'] == 2000].Value.mean(), 2))\n",
        "average_2019 = str(round(new_df[new_df['Year'] == 2019].Value.mean(), 2))\n",
        "\n",
        "text = (f'Average for 2000: {average_2000} \\n \\nAverage for 2019: {average_2019}')\n",
        "\n",
        "plt.text(.4, .70, text, fontsize = 9, transform = plt.gcf().transFigure)\n",
        "plt.title('Average Country Usage of Internet')\n",
        "spencer_chart = sns.histplot(new_df, x='Value', hue = 'Year', palette = 'deep')\n",
        "spencer_chart.set_ylabel('Number of Countries',fontsize = 9)\n",
        "spencer_chart.set_xlabel('Percentage', fontsize = 9)\n"
      ],
      "metadata": {
        "id": "7mUAV0R9ve0l",
        "colab": {
          "base_uri": "https://localhost:8080/",
          "height": 311
        },
        "outputId": "58e6b625-2b82-4b5c-9590-ce444ed433ba"
      },
      "execution_count": null,
      "outputs": [
        {
          "output_type": "execute_result",
          "data": {
            "text/plain": [
              "Text(0.5, 0, 'Percentage')"
            ]
          },
          "metadata": {},
          "execution_count": 13
        },
        {
          "output_type": "display_data",
          "data": {
            "image/png": "[encoded data removed]",
            "text/plain": [
              "<Figure size 432x288 with 1 Axes>"
            ]
          },
          "metadata": {
            "needs_background": "light"
          }
        }
      ]
    },
    {
      "cell_type": "markdown",
      "source": [
        "**Question 6.** What is the min, median, and max number of *females* who died from CVD, cancer, diabetes or CRD between exact ages of 30 and 70 in 2019 (in %)? \n",
        "\n",
        "What is the min, median, and max number of *males* who died from CVD, cancer, diabetes or CRD between exact ages of 30 and 70 in 2019 (in %)?\n",
        "\n",
        "Display an image that shows both a box plot for the females in this criteria and another box plot for the males in this criteria in the same image. Include the min, median and max numbers for female and the min, median and max numbers for male as text on the image. Include a title in the image.\n",
        "\n",
        "**Hint:** It may be helpful to first filter the df dataframe and saved that filtered dataframe to a new dataframe (maybe mortality_df). Filter to show Females who died from CVD, cancer, diabetes or CRD between exact ages of 30 and 70 OR males who died from CVD, cancer, diabetes, or CRD between exact ages of 30 and 70. In addition, both criteria need to be from 2019.\n",
        "\n",
        "Answer: Female: Min: 4.4, Median: 16.4, Max: 43.7; Male: Min: 9.6, Median: 22.1, Max: 58.4"
      ],
      "metadata": {
        "id": "h78kbcpA3ZrS"
      }
    },
    {
      "cell_type": "code",
      "source": [
        "mortality_df = df[((df['Indicator Name'] == 'Mortality from CVD, cancer, diabetes or CRD between exact ages 30 and 70, female (%)') |\n",
        "                    (df['Indicator Name'] == 'Mortality from CVD, cancer, diabetes or CRD between exact ages 30 and 70, male (%)')) &\n",
        "                    (df['Year'] == 2019)\n",
        "                  ]\n",
        "\n",
        "mortality_df = mortality_df.query('Value == Value')\n",
        "\n",
        "mortality_df\n",
        "\n",
        "minWomen = str(mortality_df[mortality_df[\"Indicator Name\"] == 'Mortality from CVD, cancer, diabetes or CRD between exact ages 30 and 70, female (%)'].Value.min())\n",
        "\n",
        "medianWomen = str(mortality_df[mortality_df[\"Indicator Name\"] == 'Mortality from CVD, cancer, diabetes or CRD between exact ages 30 and 70, female (%)'].Value.median())\n",
        "\n",
        "maxWomen = str(mortality_df[mortality_df[\"Indicator Name\"] == 'Mortality from CVD, cancer, diabetes or CRD between exact ages 30 and 70, female (%)'].Value.max())\n",
        "\n",
        "minMen = str(mortality_df[mortality_df[\"Indicator Name\"] == 'Mortality from CVD, cancer, diabetes or CRD between exact ages 30 and 70, male (%)'].Value.min())\n",
        "\n",
        "medianMen = str(mortality_df[mortality_df[\"Indicator Name\"] == 'Mortality from CVD, cancer, diabetes or CRD between exact ages 30 and 70, male (%)'].Value.median())\n",
        "\n",
        "maxMen = str(mortality_df[mortality_df[\"Indicator Name\"] == 'Mortality from CVD, cancer, diabetes or CRD between exact ages 30 and 70, male (%)'].Value.max())\n",
        "\n",
        "text = 'Female Stats: \\n  Min: ' + minWomen + '\\n  Median: ' + medianWomen + '\\n  Max: ' + maxWomen + '\\n\\nMale Stats: \\n  Min: ' + minMen + '\\n  Median: ' + medianMen + '\\n  Max: ' + maxMen\n",
        "\n",
        "plt.title('Mortality Percentage')\n",
        "plt.text(.70,.50,text, fontsize=10, transform=plt.gcf().transFigure)\n",
        "\n",
        "tom_chart = sns.boxplot(x=mortality_df.Value, y=mortality_df['Indicator Name'], palette='rocket')\n",
        "#tom_chart.set(ylabel = None, xlabel = 'Percentage')"
      ],
      "metadata": {
        "id": "sAPlD4OttiDT",
        "colab": {
          "base_uri": "https://localhost:8080/",
          "height": 312
        },
        "outputId": "9ac883af-a205-4b02-80d2-a5a06490f5a2"
      },
      "execution_count": null,
      "outputs": [
        {
          "output_type": "execute_result",
          "data": {
            "text/plain": [
              "[Text(0, 0.5, ''), Text(0.5, 0, 'Percentage')]"
            ]
          },
          "metadata": {},
          "execution_count": 31
        },
        {
          "output_type": "display_data",
          "data": {
            "image/png": "[encoded data removed]",
            "text/plain": [
              "<Figure size 432x288 with 1 Axes>"
            ]
          },
          "metadata": {
            "needs_background": "light"
          }
        }
      ]
    }
  ]
}