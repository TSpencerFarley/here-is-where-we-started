{
  "nbformat": 4,
  "nbformat_minor": 0,
  "metadata": {
    "colab": {
      "name": "checkpoint2.ipynb",
      "provenance": [],
      "collapsed_sections": []
    },
    "kernelspec": {
      "name": "python3",
      "display_name": "Python 3"
    },
    "language_info": {
      "name": "python"
    }
  },
  "cells": [
    {
      "cell_type": "code",
      "execution_count": null,
      "metadata": {
        "colab": {
          "base_uri": "https://localhost:8080/"
        },
        "id": "I595eEqlJ0Q7",
        "outputId": "c404142d-6212-4127-a42f-15c76564e7f4"
      },
      "outputs": [
        {
          "output_type": "stream",
          "name": "stdout",
          "text": [
            "What is your gender? M/F male\n",
            "Gender = M\n",
            "How much do you weigh to the nearest pound? e.g. 120.1 = 120 150\n",
            "Patient weighs 150 pounds.\n",
            "How tall are you in inches? e.g. 5'11 = 71 81\n",
            "Patient is 81 inches tall.\n"
          ]
        }
      ],
      "source": [
        "gender = input(\"What is your gender? M/F \")\n",
        "gender = gender[0].upper()\n",
        "print(\"Gender = \" + gender)\n",
        "\n",
        "weight = input(\"How much do you weigh to the nearest pound? e.g. 120.1 = 120 \")\n",
        "print(\"Patient weighs \" + str(weight) + \" pounds.\")\n",
        "\n",
        "height = input(\"How tall are you in inches? e.g. 5'11 = 71 \")\n",
        "print(\"Patient is \" + str(height) + \" inches tall.\")\n",
        "\n",
        "if weight.isdigit() == False or height.isdigit() == False:\n",
        "  print(\"Please re-enter your weight and height using only digits.\")\n"
      ]
    },
    {
      "cell_type": "code",
      "source": [
        "if weight.isdigit() == False or height.isdigit() == False:\n",
        "  print(\"Please re-enter your height and weight using only digits\")\n",
        "else:\n",
        "  if gender == \"M\":\n",
        "    if int(weight) >= 140 and int(weight) <= 280:\n",
        "      if int(height) >= 62 and int(height) <= 80:\n",
        "        print(\"This user fits all the requirements.\")\n",
        "      else:\n",
        "        print(\"This user is an outlier in only height.\")\n",
        "    else:\n",
        "      if int(height) >= 62 and int(height) <= 80:\n",
        "        print(\"This user is an outlier in only weight.\")\n",
        "      else:\n",
        "        print(\"This user is an outlier in both height and weight.\")      \n",
        "\n",
        "  elif gender == \"F\":\n",
        "    if int(weight) >= 100 and int(weight) <= 200:\n",
        "      if int(height) >= 59 and int(height) <= 71:\n",
        "        print(\"This user fits all the requirements.\")\n",
        "      else:\n",
        "        print(\"This user is an outlier in only height.\")\n",
        "    else:\n",
        "      if int(height) >= 59 and int(height) <= 71:\n",
        "        print(\"This user is an outlier in only weight.\")\n",
        "      else:\n",
        "        print(\"This user is an outlier in both height and weight.\") \n",
        "  else:\n",
        "    print(\"my code is busted\")"
      ],
      "metadata": {
        "colab": {
          "base_uri": "https://localhost:8080/"
        },
        "id": "qQ-c0pa_SABt",
        "outputId": "ccc13e0a-54dc-4983-f4ab-3164321f4678"
      },
      "execution_count": null,
      "outputs": [
        {
          "output_type": "stream",
          "name": "stdout",
          "text": [
            "This user is an outlier in only height.\n"
          ]
        }
      ]
    },
    {
      "cell_type": "code",
      "source": [
        ""
      ],
      "metadata": {
        "id": "iiFhLXHaLE3A"
      },
      "execution_count": null,
      "outputs": []
    }
  ]
}