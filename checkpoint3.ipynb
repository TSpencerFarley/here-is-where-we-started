{
  "nbformat": 4,
  "nbformat_minor": 0,
  "metadata": {
    "colab": {
      "name": "checkpoint3.ipynb",
      "provenance": [],
      "collapsed_sections": []
    },
    "kernelspec": {
      "name": "python3",
      "display_name": "Python 3"
    },
    "language_info": {
      "name": "python"
    }
  },
  "cells": [
    {
      "cell_type": "markdown",
      "source": [
        "# Checkpoint 3\n",
        "\n",
        "Make sure to click 'Copy to Drive' and to work off of that copy. "
      ],
      "metadata": {
        "id": "62piang1kNP9"
      }
    },
    {
      "cell_type": "code",
      "execution_count": null,
      "metadata": {
        "id": "Zg3SYXC4kKkO",
        "colab": {
          "base_uri": "https://localhost:8080/"
        },
        "outputId": "0d43a84c-38e6-4fc3-cab7-94e6774e15ec"
      },
      "outputs": [
        {
          "output_type": "stream",
          "name": "stdout",
          "text": [
            "['Bruno Mars', 'HP Boyz', 'James Blunt', 'Little River Band', 'Ne-Yo', 'Paul McCartney', 'Ricky Martin', 'Weird Al']\n"
          ]
        }
      ],
      "source": [
        "# Question 1: Create a list (named artist_list) using the following artists names:\n",
        "# 'Weird Al', 'Bruno Mars', 'Ricky Martin', 'HP Boyz', 'James Blunt', 'Ne-Yo', 'Paul McCartney', 'Little River Band'\n",
        "\n",
        "artist_list = ['Weird Al', 'Bruno Mars', 'Ricky Martin', 'HP Boyz', 'James Blunt',\n",
        "               'Ne-Yo', 'Paul McCartney', 'Little River Band']\n",
        "\n",
        "# Sort it from A-Z\n",
        "\n",
        "artist_list.sort()\n",
        "\n",
        "# Output artist_list\n",
        "\n",
        "print(artist_list)\n"
      ]
    },
    {
      "cell_type": "code",
      "source": [
        "# Question 2: Add 'Jackson 5' in the 3rd position of the list (Remember: Don't delete the current list items)\n",
        "\n",
        "artist_list.insert(2,'Jackson 5')\n",
        "\n",
        "# Output the artist_list\n",
        "\n",
        "print(artist_list)\n",
        "\n",
        "# Write your code in this code block below\n"
      ],
      "metadata": {
        "id": "EIAstqSak2Q6",
        "colab": {
          "base_uri": "https://localhost:8080/"
        },
        "outputId": "dfcb9df4-2834-474f-f1c6-a033f7a0e3ce"
      },
      "execution_count": null,
      "outputs": [
        {
          "output_type": "stream",
          "name": "stdout",
          "text": [
            "['Bruno Mars', 'HP Boyz', 'Jackson 5', 'James Blunt', 'Little River Band', 'Ne-Yo', 'Paul McCartney', 'Ricky Martin', 'Weird Al']\n"
          ]
        }
      ]
    },
    {
      "cell_type": "code",
      "source": [
        "# Question 3: Make a dictionary (named artist_dict) using a loop. Use the artist names (from artist_list) as the key and the number of plays as the value.\n",
        "# It will be helpful to make a new list of the plays using the information below. Name the new list play_list.\n",
        "# play_list should be a list of integers (i.e., the list should just include the number of plays, not the word \"plays\" after each number)\n",
        "# To avoid errors, before you run the code from question 3, run the code from question 1 and 2 again (in that order).\n",
        "\n",
        "artist_dict = {}\n",
        "play_list = [85279, 45000, 38765432, 974545, 100, 20000, 98879838, 600000, 1234821]\n",
        "\n",
        "\n",
        "i = 0\n",
        "\n",
        "while i < len(artist_list):\n",
        "  artist_dict[artist_list[i]] = play_list[i]\n",
        "  i += 1\n",
        "  \n",
        "print(artist_dict)\n",
        "\n",
        "print(artist_dict)\n",
        "\n",
        "\n",
        "\n",
        "# Output artist_dict. Your results should match the information below (You'll have : instead of = and you'll have quotes around the artist names)\n",
        "\n",
        "# Bruno Mars = 85279 plays\n",
        "# HP Boyz = 45000 plays\n",
        "# Jackson 5 = 38765432 plays\n",
        "# James Blunt = 974545 plays\n",
        "# Little River Band = 100 plays\n",
        "# Ne-Yo = 20000 plays\n",
        "# Paul McCartney = 98879838 plays\n",
        "# Ricky Martin = 600000 plays\n",
        "# Weird Al = 1234821 plays\n",
        "\n",
        "# Output the artist_dict\n",
        "\n",
        "# Write your code in this code block below"
      ],
      "metadata": {
        "id": "vSpWYOWYk7pM",
        "colab": {
          "base_uri": "https://localhost:8080/"
        },
        "outputId": "3e04213c-a7a2-4217-8e09-8ea2b11c7605"
      },
      "execution_count": null,
      "outputs": [
        {
          "output_type": "stream",
          "name": "stdout",
          "text": [
            "{'Bruno Mars': 85279, 'HP Boyz': 45000, 'Jackson 5': 38765432, 'James Blunt': 974545, 'Little River Band': 100, 'Ne-Yo': 20000, 'Paul McCartney': 98879838, 'Ricky Martin': 600000, 'Weird Al': 1234821}\n",
            "{'Bruno Mars': 85279, 'HP Boyz': 45000, 'Jackson 5': 38765432, 'James Blunt': 974545, 'Little River Band': 100, 'Ne-Yo': 20000, 'Paul McCartney': 98879838, 'Ricky Martin': 600000, 'Weird Al': 1234821}\n"
          ]
        }
      ]
    },
    {
      "cell_type": "code",
      "source": [
        "# Question 4: Due to technical errors this month all artists lost 100 plays to their count. ADD 100 to the count of plays for all artists.\n",
        "\n",
        "# Make sure that EVERY time before you run question 4, you also run questions 1-3. Otherwise you'll keep adding 100 to the count each time you run the code and won't be able to correctly answer the multiple choice question. \n",
        "# By running questions 1-3 every time before you run question 4, you'll re-set the dictionary so it's only adding 100 plays once.\n",
        "\n",
        "for key in artist_dict.keys():\n",
        "  artist_dict[key] += 100\n",
        "\n",
        "# Output the artist_dict\n",
        "\n",
        "print(artist_dict)\n",
        "\n",
        "# Write your code in this code block below\n"
      ],
      "metadata": {
        "id": "WcIn21wRlHRO",
        "colab": {
          "base_uri": "https://localhost:8080/"
        },
        "outputId": "5c573743-78d3-43fa-a3bb-d1af37843593"
      },
      "execution_count": null,
      "outputs": [
        {
          "output_type": "stream",
          "name": "stdout",
          "text": [
            "{'Bruno Mars': 85379, 'HP Boyz': 45100, 'Jackson 5': 38765532, 'James Blunt': 974645, 'Little River Band': 200, 'Ne-Yo': 20100, 'Paul McCartney': 98879938, 'Ricky Martin': 600100, 'Weird Al': 1234921}\n"
          ]
        }
      ]
    },
    {
      "cell_type": "code",
      "source": [
        "# Question 5: Delete all artists that do not meet the minimum plays (50000 plays). \n",
        "# Hint: Use a loop to find the artists in the artist_dict that don't meet this minimum plays. Store these artists in a list named unpopular_list. \n",
        "# Use another loop to delete the artists in unpopular_list from the artist_dict.\n",
        "# Make sure to run the code from questions 1-4 right before you run the code from question 5\n",
        "\n",
        "minimum_plays = 50000\n",
        "unpopular_list= []\n",
        "\n",
        "for item in artist_dict:\n",
        "  plays = artist_dict[item]\n",
        "  if plays < minimum_plays:\n",
        "    unpopular_list.append(item)\n",
        "    \n",
        "for item in unpopular_list:\n",
        "  artist_dict.pop(item)\n",
        "  \n",
        "# Output the artist_dict and the unpopular_list\n",
        "\n",
        "print(artist_dict)\n",
        "\n",
        "# Write your code in this code block below\n",
        "\n",
        "\n"
      ],
      "metadata": {
        "id": "1LFPEw-xlNkv",
        "colab": {
          "base_uri": "https://localhost:8080/"
        },
        "outputId": "0fbd0990-0f2d-469a-b134-2f2d73e876d6"
      },
      "execution_count": null,
      "outputs": [
        {
          "output_type": "stream",
          "name": "stdout",
          "text": [
            "{'Bruno Mars': 85379, 'Jackson 5': 38765532, 'James Blunt': 974645, 'Paul McCartney': 98879938, 'Ricky Martin': 600100, 'Weird Al': 1234921}\n"
          ]
        }
      ]
    },
    {
      "cell_type": "code",
      "source": [
        "# Question 6: Isaac and Grays are two listener profiles.\n",
        "# Below is a dictionary for Isaac (named Isaac) and a dictionary for Grays (named Grays). These dictionaries show their respective favorite artists.\n",
        "# 'fav_Artist' is the key and a list of favorite artists are the values.\n",
        "# Also below is the all_Artists list. This is a list of all available artists.\n",
        "# Isaac likes 'Little River Band', 'Jackson 5', 'HP Boyz', and 'Ne-Yo'. \n",
        "# Grays likes all artists listed in the all_Artists list that are NOT listed in Isaac's favorite list. \n",
        "\n",
        "# Use a loop to update Graysons fav_Artists (update the values to the key 'fav_Artists')\n",
        "# HINT: You may want to use 'not in' to find Grays's preferred artists. \n",
        "\n",
        "# Output Grays favorite bands (the dictionary Grays).\n",
        "\n",
        "# Write your code in this code block below\n",
        "\n",
        "Isaac = {'fav_Artists': ['Little River Band', 'Jackson 5', 'HP Boyz', 'Ne-Yo']}\n",
        "Grays = {'fav_Artists': []}\n",
        "all_Artists = ['Weird Al', 'Bruno Mars', 'Jackson 5', 'Ricky Martin', 'HP Boyz', 'James Blunt', 'Ne-Yo', 'Paul McCartney', 'Little River Band']\n",
        "\n",
        "for item in all_Artists:\n",
        "  if item not in Isaac['fav_Artists']:\n",
        "    Grays['fav_Artists'].append(item)\n",
        "\n",
        "print(Grays)\n"
      ],
      "metadata": {
        "id": "OzI1eKFKlU5j",
        "colab": {
          "base_uri": "https://localhost:8080/"
        },
        "outputId": "97c3cfbe-cf6b-45ba-ee13-6699f2a25a3e"
      },
      "execution_count": null,
      "outputs": [
        {
          "output_type": "stream",
          "name": "stdout",
          "text": [
            "{'fav_Artists': ['Weird Al', 'Bruno Mars', 'Ricky Martin', 'James Blunt', 'Paul McCartney']}\n"
          ]
        }
      ]
    },
    {
      "cell_type": "code",
      "source": [
        "# Question 7: For both Issac and Grays, calculate the total artist plays (the sum of the plays of all their favorite artists).\n",
        "# For example, calculate the sum of the number of plays for Little River Band, Jackson 5, HP Boyz and Ne-Yo to find the total plays for Isaac.\n",
        "\n",
        "# Make a new 'all_plays' key in the Isaac dictionary and the Grays dictionary.\n",
        "# Insert the total plays of all their favorite artists as the value of the 'all_plays' key.\n",
        "\n",
        "# NOTE: Before you run this block of code, run questions 1-3 again to repopulate the artist dictionary. Also make sure question 6 is run. Do NOT run question 4 or 5 again before running question 7.\n",
        "# If you ran questions 1-3, but than ran question 4 and 5, you will get an error because questions 4 and 5 make changes to the dictionary. \n",
        "# Just push the 'play' button next to questions 1-3 to run it again. \n",
        "\n",
        "isaac_plays = 0\n",
        "grays_plays = 0\n",
        "\n",
        "Isaac['all_plays'] = None\n",
        "Grays['all_plays'] = None\n",
        "\n",
        "for item in artist_dict:\n",
        "  if item in Isaac['fav_Artists']:\n",
        "    isaac_plays += artist_dict[item]\n",
        "  Isaac['all_plays'] = isaac_plays\n",
        "\n",
        "for item in artist_dict:\n",
        "  if item in Grays['fav_Artists']:\n",
        "    grays_plays += artist_dict[item]\n",
        "  Grays['all_plays'] = grays_plays\n",
        "  \n",
        "# Output the dictionaries Isaac and Grays.\n",
        "\n",
        "print(Isaac)\n",
        "print(Grays)\n",
        "\n",
        "\n",
        "\n"
      ],
      "metadata": {
        "id": "0Rpd3CRqlZdW",
        "colab": {
          "base_uri": "https://localhost:8080/"
        },
        "outputId": "14488d9f-bd61-4554-bd36-c9c1f50ab7c6"
      },
      "execution_count": null,
      "outputs": [
        {
          "output_type": "stream",
          "name": "stdout",
          "text": [
            "{'fav_Artists': ['Little River Band', 'Jackson 5', 'HP Boyz', 'Ne-Yo'], 'all_plays': 38830532}\n",
            "{'fav_Artists': ['Weird Al', 'Bruno Mars', 'Ricky Martin', 'James Blunt', 'Paul McCartney'], 'all_plays': 101774483}\n"
          ]
        }
      ]
    }
  ]
}