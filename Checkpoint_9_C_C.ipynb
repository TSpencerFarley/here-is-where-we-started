{
  "nbformat": 4,
  "nbformat_minor": 0,
  "metadata": {
    "colab": {
      "name": "Checkpoint 9 - C/C.ipynb",
      "provenance": [],
      "collapsed_sections": []
    },
    "kernelspec": {
      "name": "python3",
      "display_name": "Python 3"
    },
    "language_info": {
      "name": "python"
    }
  },
  "cells": [
    {
      "cell_type": "markdown",
      "source": [
        "\n",
        "\n",
        "**Question 1:** \n",
        "Remove all records with a smoking status of 'unknown'.\n",
        "\n",
        "Create a heatmap crosstab that shows the *observed* counts of the stroke (yes or no) by smoking status. \n",
        "\n",
        "How many people have NOT had a stroke that have never smoked? Round to the nearest whole number (integer).\n",
        "\n",
        "**1,768 people that have never smoked have not had a stroke**\n",
        "\n"
      ],
      "metadata": {
        "id": "PINvqDNrGG2Z"
      }
    },
    {
      "cell_type": "code",
      "source": [
        "import pandas as pd\n",
        "import seaborn as sns\n",
        "import matplotlib.pyplot as plt\n",
        "import numpy as np\n",
        "import scipy.stats as stats\n",
        "from scipy.stats import chi2_contingency\n",
        "from scipy.stats import chi2\n",
        "from scipy.stats import norm\n",
        "import math\n",
        "\n",
        "df = pd.read_csv('https://www.dropbox.com/s/m7cuv5yw9o2cvps/healthcare-dataset-stroke-data-cat.csv?dl=1')\n",
        "df = df[df['smoking_status'] != 'Unknown']\n",
        "\n",
        "sns.heatmap(pd.crosstab([df.smoking_status],[df.stroke], normalize = False), annot = True, fmt = 'g', cbar = True, cmap = 'YlGnBu')\n",
        "\n",
        "#sns.heatmap(pd.crosstab([df.smoking_status],[df.stroke]), cmap = \"YlGnBu\", annot = True, cbar = False, normalize = '')#"
      ],
      "metadata": {
        "id": "J3KWAHeO1Zrq",
        "colab": {
          "base_uri": "https://localhost:8080/",
          "height": 296
        },
        "outputId": "a3c7bae3-9a4f-4c0d-ab67-b859cd93db4a"
      },
      "execution_count": null,
      "outputs": [
        {
          "output_type": "execute_result",
          "data": {
            "text/plain": [
              "<matplotlib.axes._subplots.AxesSubplot at 0x7fd8c84eb0d0>"
            ]
          },
          "metadata": {},
          "execution_count": 8
        },
        {
          "output_type": "display_data",
          "data": {
            "text/plain": [
              "<Figure size 432x288 with 2 Axes>"
            ],
            "image/png": "[encoded data removed]"
          },
          "metadata": {
            "needs_background": "light"
          }
        }
      ]
    },
    {
      "cell_type": "markdown",
      "source": [
        "**Question 2:** \n",
        "\n",
        "Using the information from question 1, how many people have had a stroke that smoke? Round to the nearest whole number (integer).\n",
        "\n",
        "**39 people with a Smoking Status of \"smokes\" have had a stroke**"
      ],
      "metadata": {
        "id": "8SBpX8hYRSd4"
      }
    },
    {
      "cell_type": "code",
      "source": [
        "df[(df['smoking_status'] == 'smokes') & (df['stroke'] == 'Yes')].count()\n",
        "\n",
        "#df_q2 = df[(df['smoking_status'] == 'smokes') & (df['stroke'] == 'Yes')]\n",
        "#df_q2.count()\n"
      ],
      "metadata": {
        "id": "e4KScJ4o1bIr",
        "colab": {
          "base_uri": "https://localhost:8080/"
        },
        "outputId": "633982f5-0b48-4f08-a834-e372eb6ed60a"
      },
      "execution_count": null,
      "outputs": [
        {
          "output_type": "execute_result",
          "data": {
            "text/plain": [
              "gender               39\n",
              "age                  39\n",
              "hypertension         39\n",
              "heart_disease        39\n",
              "ever_married         39\n",
              "work_type            39\n",
              "Residence_type       39\n",
              "avg_glucose_level    39\n",
              "bmi                  39\n",
              "smoking_status       39\n",
              "stroke               39\n",
              "dtype: int64"
            ]
          },
          "metadata": {},
          "execution_count": 9
        }
      ]
    },
    {
      "cell_type": "markdown",
      "source": [
        "**Question 3:** \n",
        "\n",
        "Using the information in question #1, create a heatmap crosstab that shows the *expected* counts of stroke (yes or no) by smoking status.\n",
        "\n",
        "How many people are expected to have NOT had a stroke that have never smoked? Round to the nearest integer (whole number).\n",
        "\n",
        "**1,755 of people that have never smoked are expected to have NOT had a stroke**\n",
        "\n"
      ],
      "metadata": {
        "id": "dWGwb5pqIDTP"
      }
    },
    {
      "cell_type": "code",
      "source": [
        "crosstab = pd.crosstab(index = df['stroke'], columns = df['smoking_status'])\n",
        "\n",
        "x, p, dof, expected_values = chi2_contingency(crosstab)\n",
        "\n",
        "ev_df = pd.DataFrame(np.rint(expected_values).astype('int64'), columns=crosstab.columns, index = crosstab.index )\n",
        "\n",
        "sns.heatmap(ev_df, annot=True, fmt='d', cmap='coolwarm')\n",
        "\n",
        "plt.title('Expected Values of Strokes by Smoking Status')\n",
        "\n",
        "plt.show()"
      ],
      "metadata": {
        "colab": {
          "base_uri": "https://localhost:8080/",
          "height": 296
        },
        "id": "pCEGx3wVFg1Z",
        "outputId": "552d16c0-ee19-48c3-abb4-6990a6f24290"
      },
      "execution_count": null,
      "outputs": [
        {
          "output_type": "display_data",
          "data": {
            "text/plain": [
              "<Figure size 432x288 with 2 Axes>"
            ],
            "image/png": "[encoded data removed]"
          },
          "metadata": {
            "needs_background": "light"
          }
        }
      ]
    },
    {
      "cell_type": "markdown",
      "source": [
        "**Question #4:** \n",
        "\n",
        "Using the information in question #3, how many people are expected to have had a stroke that smoke? Round to the nearest integer (whole number).\n",
        "\n",
        "**39 people that smoke are expected to have had a stroke.**"
      ],
      "metadata": {
        "id": "HqN2GZreRXGw"
      }
    },
    {
      "cell_type": "code",
      "source": [
        "x, p, dof, expected_values = chi2_contingency(crosstab)\n",
        "\n",
        "print('chi-square: ' + str(round(x,5)))\n",
        "print('p-value: ' + str(round(p, 5)))"
      ],
      "metadata": {
        "id": "Jaiml9pw1cRZ",
        "colab": {
          "base_uri": "https://localhost:8080/"
        },
        "outputId": "c4bef7da-8bcd-43ea-e821-f4a520328bb5"
      },
      "execution_count": null,
      "outputs": [
        {
          "output_type": "stream",
          "name": "stdout",
          "text": [
            "chi-square: 5.99319\n",
            "p-value: 0.04996\n"
          ]
        }
      ]
    },
    {
      "cell_type": "markdown",
      "source": [
        "**Question #5**\n",
        "\n",
        "Using the information in questions 1-4, is there an association between if a person has had a stroke and their smoking status? Hint: round the p-value to 5 decimal places.\n",
        "\n",
        "**Yes, there is a statistically significant relationship between the variables because the p-value is less than 0.05.**"
      ],
      "metadata": {
        "id": "hDwZTC5yKTTw"
      }
    },
    {
      "cell_type": "code",
      "source": [
        "x, p, dof, expected_values = chi2_contingency(crosstab)\n",
        "\n",
        "print('chi-square: ' + str(round(x,5)))\n",
        "print('p-value: ' + str(round(p, 5)))\n"
      ],
      "metadata": {
        "id": "pKNyjHqo1dfg",
        "colab": {
          "base_uri": "https://localhost:8080/"
        },
        "outputId": "f3e5c4e6-6388-4c40-e9c0-74163709bc2a"
      },
      "execution_count": null,
      "outputs": [
        {
          "output_type": "stream",
          "name": "stdout",
          "text": [
            "chi-square: 5.99319\n",
            "p-value: 0.04996\n"
          ]
        }
      ]
    },
    {
      "cell_type": "markdown",
      "source": [
        "**Question #6** \n",
        "\n",
        "Using the information in questions 1-5, what is the effect size of a person's smoking status and if they have had a stroke? Round to 4 decimal places.\n",
        "\n",
        "**The effect size (chi-square) is 5.9932.**"
      ],
      "metadata": {
        "id": "6caF2SJTMDBN"
      }
    },
    {
      "cell_type": "code",
      "source": [
        "print('chi-square: ' + str(round(x,4)))"
      ],
      "metadata": {
        "id": "Wk3KfmgK1eC8",
        "colab": {
          "base_uri": "https://localhost:8080/"
        },
        "outputId": "03238744-ea68-4a8f-ac01-7d8d0a56f398"
      },
      "execution_count": null,
      "outputs": [
        {
          "output_type": "stream",
          "name": "stdout",
          "text": [
            "chi-square: 5.9932\n"
          ]
        }
      ]
    },
    {
      "cell_type": "markdown",
      "source": [
        "**Question #7**\n",
        "\n",
        "Filter the dataframe to only include those age 35 or older \n",
        "*and* with a private job or self employeed job. You should still not include records with a smoking status of 'Unknown'.\n",
        "\n",
        "Create a crosstab that shows the observed counts of the stroke (yes or no) by work type.\n",
        "\n",
        "What group has the lowest observed count? **People who are self-employed and have had a stroke are the group with the lowest observed count at 48.**"
      ],
      "metadata": {
        "id": "N4yKAW4_MQOc"
      }
    },
    {
      "cell_type": "code",
      "source": [
        "df_q7 = df[(df['age'] >= 35) & (df['smoking_status'] != 'Unknown') & ((df['work_type'] == 'Private') | (df['work_type'] == 'Self-employed'))]\n",
        "crosstab_q7 = pd.crosstab(index = df_q7['stroke'], columns = df_q7['work_type'])\n",
        "crosstab_q7"
      ],
      "metadata": {
        "id": "XcNKrksB1em4",
        "colab": {
          "base_uri": "https://localhost:8080/",
          "height": 143
        },
        "outputId": "11dd2e66-5857-4a9e-9790-a758977af6a3"
      },
      "execution_count": null,
      "outputs": [
        {
          "output_type": "execute_result",
          "data": {
            "text/plain": [
              "work_type  Private  Self-employed\n",
              "stroke                           \n",
              "No            1403            529\n",
              "Yes            108             48"
            ],
            "text/html": [
              "\n",
              "  <div id=\"df-1568b8d6-5774-4c78-8096-88f8c0e00104\">\n",
              "    <div class=\"colab-df-container\">\n",
              "      <div>\n",
              "<style scoped>\n",
              "    .dataframe tbody tr th:only-of-type {\n",
              "        vertical-align: middle;\n",
              "    }\n",
              "\n",
              "    .dataframe tbody tr th {\n",
              "        vertical-align: top;\n",
              "    }\n",
              "\n",
              "    .dataframe thead th {\n",
              "        text-align: right;\n",
              "    }\n",
              "</style>\n",
              "<table border=\"1\" class=\"dataframe\">\n",
              "  <thead>\n",
              "    <tr style=\"text-align: right;\">\n",
              "      <th>work_type</th>\n",
              "      <th>Private</th>\n",
              "      <th>Self-employed</th>\n",
              "    </tr>\n",
              "    <tr>\n",
              "      <th>stroke</th>\n",
              "      <th></th>\n",
              "      <th></th>\n",
              "    </tr>\n",
              "  </thead>\n",
              "  <tbody>\n",
              "    <tr>\n",
              "      <th>No</th>\n",
              "      <td>1403</td>\n",
              "      <td>529</td>\n",
              "    </tr>\n",
              "    <tr>\n",
              "      <th>Yes</th>\n",
              "      <td>108</td>\n",
              "      <td>48</td>\n",
              "    </tr>\n",
              "  </tbody>\n",
              "</table>\n",
              "</div>\n",
              "      <button class=\"colab-df-convert\" onclick=\"convertToInteractive('df-1568b8d6-5774-4c78-8096-88f8c0e00104')\"\n",
              "              title=\"Convert this dataframe to an interactive table.\"\n",
              "              style=\"display:none;\">\n",
              "        \n",
              "  <svg xmlns=\"http://www.w3.org/2000/svg\" height=\"24px\"viewBox=\"0 0 24 24\"\n",
              "       width=\"24px\">\n",
              "    <path d=\"M0 0h24v24H0V0z\" fill=\"none\"/>\n",
              "    <path d=\"M18.56 5.44l.94 2.06.94-2.06 2.06-.94-2.06-.94-.94-2.06-.94 2.06-2.06.94zm-11 1L8.5 8.5l.94-2.06 2.06-.94-2.06-.94L8.5 2.5l-.94 2.06-2.06.94zm10 10l.94 2.06.94-2.06 2.06-.94-2.06-.94-.94-2.06-.94 2.06-2.06.94z\"/><path d=\"M17.41 7.96l-1.37-1.37c-.4-.4-.92-.59-1.43-.59-.52 0-1.04.2-1.43.59L10.3 9.45l-7.72 7.72c-.78.78-.78 2.05 0 2.83L4 21.41c.39.39.9.59 1.41.59.51 0 1.02-.2 1.41-.59l7.78-7.78 2.81-2.81c.8-.78.8-2.07 0-2.86zM5.41 20L4 18.59l7.72-7.72 1.47 1.35L5.41 20z\"/>\n",
              "  </svg>\n",
              "      </button>\n",
              "      \n",
              "  <style>\n",
              "    .colab-df-container {\n",
              "      display:flex;\n",
              "      flex-wrap:wrap;\n",
              "      gap: 12px;\n",
              "    }\n",
              "\n",
              "    .colab-df-convert {\n",
              "      background-color: #E8F0FE;\n",
              "      border: none;\n",
              "      border-radius: 50%;\n",
              "      cursor: pointer;\n",
              "      display: none;\n",
              "      fill: #1967D2;\n",
              "      height: 32px;\n",
              "      padding: 0 0 0 0;\n",
              "      width: 32px;\n",
              "    }\n",
              "\n",
              "    .colab-df-convert:hover {\n",
              "      background-color: #E2EBFA;\n",
              "      box-shadow: 0px 1px 2px rgba(60, 64, 67, 0.3), 0px 1px 3px 1px rgba(60, 64, 67, 0.15);\n",
              "      fill: #174EA6;\n",
              "    }\n",
              "\n",
              "    [theme=dark] .colab-df-convert {\n",
              "      background-color: #3B4455;\n",
              "      fill: #D2E3FC;\n",
              "    }\n",
              "\n",
              "    [theme=dark] .colab-df-convert:hover {\n",
              "      background-color: #434B5C;\n",
              "      box-shadow: 0px 1px 3px 1px rgba(0, 0, 0, 0.15);\n",
              "      filter: drop-shadow(0px 1px 2px rgba(0, 0, 0, 0.3));\n",
              "      fill: #FFFFFF;\n",
              "    }\n",
              "  </style>\n",
              "\n",
              "      <script>\n",
              "        const buttonEl =\n",
              "          document.querySelector('#df-1568b8d6-5774-4c78-8096-88f8c0e00104 button.colab-df-convert');\n",
              "        buttonEl.style.display =\n",
              "          google.colab.kernel.accessAllowed ? 'block' : 'none';\n",
              "\n",
              "        async function convertToInteractive(key) {\n",
              "          const element = document.querySelector('#df-1568b8d6-5774-4c78-8096-88f8c0e00104');\n",
              "          const dataTable =\n",
              "            await google.colab.kernel.invokeFunction('convertToInteractive',\n",
              "                                                     [key], {});\n",
              "          if (!dataTable) return;\n",
              "\n",
              "          const docLinkHtml = 'Like what you see? Visit the ' +\n",
              "            '<a target=\"_blank\" href=https://colab.research.google.com/notebooks/data_table.ipynb>data table notebook</a>'\n",
              "            + ' to learn more about interactive tables.';\n",
              "          element.innerHTML = '';\n",
              "          dataTable['output_type'] = 'display_data';\n",
              "          await google.colab.output.renderOutput(dataTable, element);\n",
              "          const docLink = document.createElement('div');\n",
              "          docLink.innerHTML = docLinkHtml;\n",
              "          element.appendChild(docLink);\n",
              "        }\n",
              "      </script>\n",
              "    </div>\n",
              "  </div>\n",
              "  "
            ]
          },
          "metadata": {},
          "execution_count": 26
        }
      ]
    },
    {
      "cell_type": "markdown",
      "source": [
        "**Question #8**\n",
        "\n",
        "Using information from question 7, is there an association between if a person has had a stroke and their work_type? \n",
        "\n",
        "**There is not an association between if a person has had a stroke and their work_type because the p-value is greater than 0.05 (0.41379).**"
      ],
      "metadata": {
        "id": "cci6dY9pLDox"
      }
    },
    {
      "cell_type": "code",
      "source": [
        "x, p, dof, expected_values = chi2_contingency(crosstab_q7)\n",
        "\n",
        "print('chi-square: ' + str(round(x,5)))\n",
        "print('p-value: ' + str(round(p, 5)))"
      ],
      "metadata": {
        "id": "inw4lNbP1faF",
        "colab": {
          "base_uri": "https://localhost:8080/"
        },
        "outputId": "597df030-f6b5-44f8-99aa-7701bf6cef03"
      },
      "execution_count": null,
      "outputs": [
        {
          "output_type": "stream",
          "name": "stdout",
          "text": [
            "chi-square: 0.66789\n",
            "p-value: 0.41379\n"
          ]
        }
      ]
    },
    {
      "cell_type": "markdown",
      "source": [
        "**Question #9**\n",
        "\n",
        "Create a function that will accept a dataframe, an index and column. The function should create a crosstab heat map of observed values. The function should also print out the chi-square and p-value of the index and column. \n",
        "\n",
        "A TA will manually grade this question by passing to the function a new dataframe, index and column. "
      ],
      "metadata": {
        "id": "xo7z-RldQi5w"
      }
    },
    {
      "cell_type": "code",
      "source": [
        "def alex_is_the_worst(df_inp, ind, col):\n",
        "\n",
        "  df = df_inp\n",
        "  \n",
        "  crosstab = pd.crosstab(index = df[ind], columns = df[col]) #this is probably wrong\n",
        "\n",
        "  x, p, dof, expected_values = chi2_contingency(crosstab)\n",
        "  \n",
        "  sns.heatmap(pd.crosstab([df[ind]],[df[col]], normalize = False), annot = True, fmt = 'g', cbar = True, cmap = 'YlGnBu')\n",
        "\n",
        "  plt.show()\n",
        "\n",
        "  print('chi-square: ' + str(round(x,5)))\n",
        "  print('p-value: ' + str(round(p, 5)))\n",
        "\n",
        "alex_is_the_worst(df_q7, 'work_type', 'stroke')"
      ],
      "metadata": {
        "id": "ijmUJIsZ1n9U",
        "colab": {
          "base_uri": "https://localhost:8080/",
          "height": 318
        },
        "outputId": "ab14fca3-af77-444a-c9a1-241db83128a4"
      },
      "execution_count": null,
      "outputs": [
        {
          "output_type": "display_data",
          "data": {
            "text/plain": [
              "<Figure size 432x288 with 2 Axes>"
            ],
            "image/png": "[encoded data removed]"
          },
          "metadata": {
            "needs_background": "light"
          }
        },
        {
          "output_type": "stream",
          "name": "stdout",
          "text": [
            "chi-square: 0.66789\n",
            "p-value: 0.41379\n"
          ]
        }
      ]
    }
  ]
}